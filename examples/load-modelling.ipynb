{
 "cells": [
  {
   "attachments": {},
   "cell_type": "markdown",
   "metadata": {},
   "source": [
    "# Load Shedding, Shifting and Elastic Demand"
   ]
  },
  {
   "attachments": {},
   "cell_type": "markdown",
   "metadata": {},
   "source": [
    "This example is a simple illustration that aims to explain the use of load shedding, load shifting and elastic demand in PyPSA. The example is designed to simulate a single day of electrical consumption in a small network with solar generation, which could represent a single house or a small group of houses."
   ]
  },
  {
   "cell_type": "code",
   "execution_count": 7,
   "metadata": {},
   "outputs": [],
   "source": [
    "import matplotlib.pyplot as plt\n",
    "import numpy as np\n",
    "import pandas as pd\n",
    "import pypsa"
   ]
  },
  {
   "attachments": {},
   "cell_type": "markdown",
   "metadata": {},
   "source": [
    "## Build example network\n",
    "\n",
    "First, let's start building a minimal example network for which we demonstrate the demand modelling cases.\n",
    "The example network is represented as single bus: \n",
    "- with one PV generator\n",
    "- and one baseload electricity demand profile\n",
    "- between 04:00 - 20:00"
   ]
  },
  {
   "cell_type": "code",
   "execution_count": 8,
   "metadata": {},
   "outputs": [],
   "source": [
    "network = pypsa.Network()\n",
    "\n",
    "# Add a bus\n",
    "network.add(\"Bus\", \"My bus\")\n",
    "\n",
    "# Add fuel types\n",
    "network.add(\"Carrier\", \"solar\")\n",
    "network.add(\"Carrier\", \"load\")\n",
    "\n",
    "# Add snapshots to define considered time span\n",
    "network.set_snapshots(pd.date_range(\"2023-01-01 04:00\", \"2023-01-01 20:00\", freq=\"H\"))\n",
    "\n",
    "# Add solar generation\n",
    "pv_pu = [\n",
    "    0.0,\n",
    "    0.0,\n",
    "    0.0,\n",
    "    0.2,\n",
    "    0.4,\n",
    "    0.65,\n",
    "    0.85,\n",
    "    0.9,\n",
    "    0.85,\n",
    "    0.65,\n",
    "    0.4,\n",
    "    0.3,\n",
    "    0.2,\n",
    "    0.1,\n",
    "    0.0,\n",
    "    0.0,\n",
    "    0.0,\n",
    "]\n",
    "\n",
    "# Add solar generation\n",
    "network.add(\n",
    "    \"Generator\",\n",
    "    \"solar\",\n",
    "    bus=\"My bus\",\n",
    "    p_nom=0.4,\n",
    "    carrier=\"solar\",\n",
    "    p_max_pu=pv_pu,\n",
    "    marginal_cost=0 + 0.01 * np.random.random(),\n",
    ")\n",
    "\n",
    "# Add baseload\n",
    "load = pd.Series(0.2, index=range(17))  # constant baseload\n",
    "network.add(\"Load\", \"baseload\", bus=\"My bus\", p_set=load.values)"
   ]
  },
  {
   "attachments": {},
   "cell_type": "markdown",
   "metadata": {},
   "source": [
    "## Load shedding"
   ]
  },
  {
   "attachments": {},
   "cell_type": "markdown",
   "metadata": {},
   "source": [
    "\"Load shedding\" in power networks often happens under extreme conditions, e.g. to prevent network faults. In models, we consider load shedding as extremely expensive and unconstrained generators that can practically decreases the demand to zero. Tip: Load shedding generators are often used to track-down infeasibilities making every model solve."
   ]
  },
  {
   "cell_type": "code",
   "execution_count": 9,
   "metadata": {},
   "outputs": [],
   "source": [
    "# Add load shedding as generator\n",
    "network.add(\n",
    "    \"Generator\",\n",
    "    \"load shedding\",\n",
    "    bus=\"My bus\",\n",
    "    p_nom=50,\n",
    "    carrier=\"load\",\n",
    "    p_max_pu=1.0,\n",
    "    marginal_cost=1e2,\n",
    "    p_nom_extendable=True,\n",
    ")"
   ]
  },
  {
   "attachments": {},
   "cell_type": "markdown",
   "metadata": {},
   "source": [
    "## Load shifting"
   ]
  },
  {
   "attachments": {},
   "cell_type": "markdown",
   "metadata": {},
   "source": [
    "\"Load shifting\" is often used to provide network benefits arising from demand side flexibility. One example application are smart thermostats that can shift the timing of energy use by automatically shifting the heating or cooling demand from one to another period e.g. from peak to off-peak period. We model load shifting as storage unit, which are often described as energy time-shifters."
   ]
  },
  {
   "cell_type": "code",
   "execution_count": 10,
   "metadata": {},
   "outputs": [],
   "source": [
    "# add battery as carrier\n",
    "network.add(\"Carrier\", \"battery\")\n",
    "\n",
    "# add smart thermostat as storage unit\n",
    "network.add(\n",
    "    \"StorageUnit\",\n",
    "    \"smart thermostat\",\n",
    "    bus=\"My bus\",\n",
    "    p_nom=0,\n",
    "    carrier=\"battery\",\n",
    "    marginal_cost=4 * np.random.random(),\n",
    "    p_nom_extendable=True,\n",
    "    p_max_pu=1,\n",
    "    p_min_pu=-1,\n",
    "    efficiency_store=0.9,\n",
    "    efficiency_dispatch=0.95,\n",
    "    standing_loss=0.01,\n",
    "    cyclic_state_of_charge=True,\n",
    "    max_hours=6,\n",
    ")"
   ]
  },
  {
   "attachments": {},
   "cell_type": "markdown",
   "metadata": {},
   "source": [
    "### Let's plot load shifting and shedding "
   ]
  },
  {
   "cell_type": "code",
   "execution_count": 11,
   "metadata": {},
   "outputs": [
    {
     "name": "stderr",
     "output_type": "stream",
     "text": [
      "INFO:pypsa.linopf:Prepare linear problem\n",
      "INFO:pypsa.linopf:Total preparation time: 0.6s\n",
      "INFO:pypsa.linopf:Solve linear problem using Glpk solver\n",
      "INFO:pypsa.linopf:Optimization successful. Objective value: 1.32e+02\n"
     ]
    },
    {
     "data": {
      "text/plain": [
       "('ok', 'optimal')"
      ]
     },
     "execution_count": 11,
     "metadata": {},
     "output_type": "execute_result"
    }
   ],
   "source": [
    "network.lopf()"
   ]
  },
  {
   "cell_type": "code",
   "execution_count": 18,
   "metadata": {},
   "outputs": [
    {
     "data": {
      "text/html": [
       "<div>\n",
       "<style scoped>\n",
       "    .dataframe tbody tr th:only-of-type {\n",
       "        vertical-align: middle;\n",
       "    }\n",
       "\n",
       "    .dataframe tbody tr th {\n",
       "        vertical-align: top;\n",
       "    }\n",
       "\n",
       "    .dataframe thead th {\n",
       "        text-align: right;\n",
       "    }\n",
       "</style>\n",
       "<table border=\"1\" class=\"dataframe\">\n",
       "  <thead>\n",
       "    <tr style=\"text-align: right;\">\n",
       "      <th>Generator</th>\n",
       "      <th>solar</th>\n",
       "      <th>load shedding</th>\n",
       "    </tr>\n",
       "    <tr>\n",
       "      <th>snapshot</th>\n",
       "      <th></th>\n",
       "      <th></th>\n",
       "    </tr>\n",
       "  </thead>\n",
       "  <tbody>\n",
       "    <tr>\n",
       "      <th>2023-01-01 04:00:00</th>\n",
       "      <td>0.00</td>\n",
       "      <td>0.200000</td>\n",
       "    </tr>\n",
       "    <tr>\n",
       "      <th>2023-01-01 05:00:00</th>\n",
       "      <td>0.00</td>\n",
       "      <td>0.200000</td>\n",
       "    </tr>\n",
       "    <tr>\n",
       "      <th>2023-01-01 06:00:00</th>\n",
       "      <td>0.00</td>\n",
       "      <td>0.200000</td>\n",
       "    </tr>\n",
       "    <tr>\n",
       "      <th>2023-01-01 07:00:00</th>\n",
       "      <td>0.08</td>\n",
       "      <td>0.120000</td>\n",
       "    </tr>\n",
       "    <tr>\n",
       "      <th>2023-01-01 08:00:00</th>\n",
       "      <td>0.16</td>\n",
       "      <td>0.040000</td>\n",
       "    </tr>\n",
       "    <tr>\n",
       "      <th>2023-01-01 09:00:00</th>\n",
       "      <td>0.26</td>\n",
       "      <td>0.000000</td>\n",
       "    </tr>\n",
       "    <tr>\n",
       "      <th>2023-01-01 10:00:00</th>\n",
       "      <td>0.34</td>\n",
       "      <td>0.000000</td>\n",
       "    </tr>\n",
       "    <tr>\n",
       "      <th>2023-01-01 11:00:00</th>\n",
       "      <td>0.36</td>\n",
       "      <td>0.000000</td>\n",
       "    </tr>\n",
       "    <tr>\n",
       "      <th>2023-01-01 12:00:00</th>\n",
       "      <td>0.34</td>\n",
       "      <td>0.000000</td>\n",
       "    </tr>\n",
       "    <tr>\n",
       "      <th>2023-01-01 13:00:00</th>\n",
       "      <td>0.26</td>\n",
       "      <td>0.000000</td>\n",
       "    </tr>\n",
       "    <tr>\n",
       "      <th>2023-01-01 14:00:00</th>\n",
       "      <td>0.16</td>\n",
       "      <td>0.000000</td>\n",
       "    </tr>\n",
       "    <tr>\n",
       "      <th>2023-01-01 15:00:00</th>\n",
       "      <td>0.12</td>\n",
       "      <td>0.000000</td>\n",
       "    </tr>\n",
       "    <tr>\n",
       "      <th>2023-01-01 16:00:00</th>\n",
       "      <td>0.08</td>\n",
       "      <td>0.000000</td>\n",
       "    </tr>\n",
       "    <tr>\n",
       "      <th>2023-01-01 17:00:00</th>\n",
       "      <td>0.04</td>\n",
       "      <td>0.000000</td>\n",
       "    </tr>\n",
       "    <tr>\n",
       "      <th>2023-01-01 18:00:00</th>\n",
       "      <td>0.00</td>\n",
       "      <td>0.145756</td>\n",
       "    </tr>\n",
       "    <tr>\n",
       "      <th>2023-01-01 19:00:00</th>\n",
       "      <td>0.00</td>\n",
       "      <td>0.200000</td>\n",
       "    </tr>\n",
       "    <tr>\n",
       "      <th>2023-01-01 20:00:00</th>\n",
       "      <td>0.00</td>\n",
       "      <td>0.200000</td>\n",
       "    </tr>\n",
       "  </tbody>\n",
       "</table>\n",
       "</div>"
      ],
      "text/plain": [
       "Generator            solar  load shedding\n",
       "snapshot                                 \n",
       "2023-01-01 04:00:00   0.00       0.200000\n",
       "2023-01-01 05:00:00   0.00       0.200000\n",
       "2023-01-01 06:00:00   0.00       0.200000\n",
       "2023-01-01 07:00:00   0.08       0.120000\n",
       "2023-01-01 08:00:00   0.16       0.040000\n",
       "2023-01-01 09:00:00   0.26       0.000000\n",
       "2023-01-01 10:00:00   0.34       0.000000\n",
       "2023-01-01 11:00:00   0.36       0.000000\n",
       "2023-01-01 12:00:00   0.34       0.000000\n",
       "2023-01-01 13:00:00   0.26       0.000000\n",
       "2023-01-01 14:00:00   0.16       0.000000\n",
       "2023-01-01 15:00:00   0.12       0.000000\n",
       "2023-01-01 16:00:00   0.08       0.000000\n",
       "2023-01-01 17:00:00   0.04       0.000000\n",
       "2023-01-01 18:00:00   0.00       0.145756\n",
       "2023-01-01 19:00:00   0.00       0.200000\n",
       "2023-01-01 20:00:00   0.00       0.200000"
      ]
     },
     "execution_count": 18,
     "metadata": {},
     "output_type": "execute_result"
    }
   ],
   "source": [
    "network.generators_t.p"
   ]
  },
  {
   "cell_type": "code",
   "execution_count": 13,
   "metadata": {},
   "outputs": [
    {
     "data": {
      "text/plain": [
       "Text(0, 0.5, 'Power (MW)')"
      ]
     },
     "execution_count": 13,
     "metadata": {},
     "output_type": "execute_result"
    },
    {
     "data": {
      "image/png": "[encoded data removed]",
      "text/plain": [
       "<Figure size 640x480 with 1 Axes>"
      ]
     },
     "metadata": {},
     "output_type": "display_data"
    }
   ],
   "source": [
    "fig, ax = plt.subplots()\n",
    "\n",
    "network.generators_t.p.plot(ax=ax)\n",
    "network.storage_units_t.p.plot(ax=ax)\n",
    "network.loads_t.p.plot(ax=ax)\n",
    "\n",
    "ax.set_ylabel(\"Power (MW)\")"
   ]
  },
  {
   "attachments": {},
   "cell_type": "markdown",
   "metadata": {},
   "source": [
    "We can observe from the least cost solution the following:\n",
    "- The smart thermostat is increasing the demand during the peak solar generation, to save energy when there is a lack of supply\n",
    "- In the first and last hours of the day, load shedding is applied since there is not enough storage or generation available"
   ]
  },
  {
   "attachments": {},
   "cell_type": "markdown",
   "metadata": {},
   "source": [
    "## Elastic Demand"
   ]
  },
  {
   "attachments": {},
   "cell_type": "markdown",
   "metadata": {},
   "source": [
    "Demand is slightly \"elastic\", meaning consumers would use less energy if its too expensive, or would use more energy if its low costs. Think about yourself. Would you consume less energy if it cost 5x more than today? The elasticity of demand is usually nonlinear and highly depended on individuals. If you are interested to read more into this, [Labandeira et al. (2017)](https://doi.org/10.1016/j.enpol.2017.01.002) surveys 428 papers that use various econometric techniques to evaluate energy demand elasticity to price.\n",
    "\n",
    "We model eleastic demand by:\n",
    "  - using a linear elasticity curve (price & demand relation)\n",
    "  - iteration model runs with updated demands\n",
    "  \n",
    "Note. Demand is model input & price is the model output. See [here](https://github.com/PyPSA/PyPSA/issues/574) a nice illustration. "
   ]
  },
  {
   "cell_type": "code",
   "execution_count": 19,
   "metadata": {},
   "outputs": [],
   "source": [
    "# assuming a linear demand response to price\n",
    "def elasticity(system_cost_per_MWh):\n",
    "    # y = mx + t\n",
    "    # x = y - t / m\n",
    "    return (system_cost_per_MWh - 120) / -300"
   ]
  },
  {
   "cell_type": "code",
   "execution_count": 20,
   "metadata": {},
   "outputs": [
    {
     "data": {
      "image/png": "[encoded data removed]",
      "text/plain": [
       "<Figure size 640x480 with 1 Axes>"
      ]
     },
     "metadata": {},
     "output_type": "display_data"
    }
   ],
   "source": [
    "# Define a range of input values\n",
    "x = np.arange(0, 300, 10)\n",
    "\n",
    "# Calculate output values using the elasticity function\n",
    "y = [elasticity(i) for i in x]\n",
    "\n",
    "# Create the plot\n",
    "plt.plot(y, x)\n",
    "plt.xlabel(\"Demand [MWh]\")\n",
    "plt.ylabel(\"Electricity price [Eur/MWh]\")\n",
    "plt.title(\"Random elasticity curve for the example\")\n",
    "plt.xlim([0, 0.5])\n",
    "plt.ylim([0, 150])\n",
    "plt.show()"
   ]
  },
  {
   "attachments": {},
   "cell_type": "markdown",
   "metadata": {},
   "source": [
    "Using the same network as in the previous sections, we perform the iteration:\n",
    "- add demand to network\n",
    "- optimize network to get the system price\n",
    "- update the demand by adding the system price to the elasticity curve"
   ]
  },
  {
   "cell_type": "code",
   "execution_count": 43,
   "metadata": {},
   "outputs": [
    {
     "name": "stderr",
     "output_type": "stream",
     "text": [
      "INFO:pypsa.linopf:Prepare linear problem\n",
      "INFO:pypsa.linopf:Total preparation time: 0.38s\n",
      "INFO:pypsa.linopf:Solve linear problem using Glpk solver\n",
      "INFO:pypsa.linopf:Optimization successful. Objective value: 1.32e+02\n",
      "INFO:pypsa.linopf:Prepare linear problem\n",
      "INFO:pypsa.linopf:Total preparation time: 0.41s\n",
      "INFO:pypsa.linopf:Solve linear problem using Glpk solver\n",
      "INFO:pypsa.linopf:Optimization successful. Objective value: 2.45e+02\n",
      "INFO:pypsa.linopf:Prepare linear problem\n",
      "INFO:pypsa.linopf:Total preparation time: 0.36s\n",
      "INFO:pypsa.linopf:Solve linear problem using Glpk solver\n",
      "INFO:pypsa.linopf:Optimization successful. Objective value: 1.68e+02\n",
      "INFO:pypsa.linopf:Prepare linear problem\n",
      "INFO:pypsa.linopf:Total preparation time: 0.37s\n",
      "INFO:pypsa.linopf:Solve linear problem using Glpk solver\n",
      "INFO:pypsa.linopf:Optimization successful. Objective value: 2.15e+02\n",
      "INFO:pypsa.linopf:Prepare linear problem\n",
      "INFO:pypsa.linopf:Total preparation time: 0.37s\n",
      "INFO:pypsa.linopf:Solve linear problem using Glpk solver\n",
      "INFO:pypsa.linopf:Optimization successful. Objective value: 1.84e+02\n",
      "INFO:pypsa.linopf:Prepare linear problem\n",
      "INFO:pypsa.linopf:Total preparation time: 0.45s\n",
      "INFO:pypsa.linopf:Solve linear problem using Glpk solver\n",
      "INFO:pypsa.linopf:Optimization successful. Objective value: 2.03e+02\n"
     ]
    }
   ],
   "source": [
    "base_load = 0.2\n",
    "all_networks = []\n",
    "\n",
    "old_cost = 1e100\n",
    "MAX_ITERATIONS = 10\n",
    "THRESHOLD = 0.05  # minimum 5% change per iteration\n",
    "for i in range(MAX_ITERATIONS):\n",
    "    network = network.copy()\n",
    "    load = pd.Series(\n",
    "        base_load, index=range(17)\n",
    "    )  # variable baseload based on base_load_values\n",
    "    network.remove(\"Load\", \"baseload\")\n",
    "    network.add(\"Load\", \"baseload\", bus=\"My bus\", p_set=load.values)\n",
    "    network.lopf()\n",
    "\n",
    "    # Estimated price of the network in euros per MWh\n",
    "    system_cost_per_MWh = (\n",
    "        network.objective + network.objective_constant\n",
    "    ) / network.loads_t.p.sum().sum()\n",
    "\n",
    "    all_networks.append(network)\n",
    "    if abs(old_cost - system_cost_per_MWh) / system_cost_per_MWh < THRESHOLD:\n",
    "        break\n",
    "    old_cost = system_cost_per_MWh\n",
    "    # assuming a linear demand response to price\n",
    "    new_load = elasticity(system_cost_per_MWh)\n",
    "    base_load = new_load"
   ]
  },
  {
   "cell_type": "code",
   "execution_count": 44,
   "metadata": {},
   "outputs": [
    {
     "data": {
      "text/plain": [
       "0.04785850340040847"
      ]
     },
     "execution_count": 44,
     "metadata": {},
     "output_type": "execute_result"
    }
   ],
   "source": [
    "abs(old_cost - system_cost_per_MWh) / system_cost_per_MWh"
   ]
  },
  {
   "cell_type": "code",
   "execution_count": 42,
   "metadata": {},
   "outputs": [
    {
     "data": {
      "text/plain": [
       "38.72139258823529"
      ]
     },
     "execution_count": 42,
     "metadata": {},
     "output_type": "execute_result"
    }
   ],
   "source": [
    "system_cost_per_MWh"
   ]
  },
  {
   "attachments": {},
   "cell_type": "markdown",
   "metadata": {},
   "source": [
    "### Let's plot the elastic demand"
   ]
  },
  {
   "cell_type": "code",
   "execution_count": 33,
   "metadata": {},
   "outputs": [],
   "source": [
    "### Demand and price values from the created networks\n",
    "average_loads = []\n",
    "prices = []\n",
    "for n in all_networks:\n",
    "    average_loads.append(n.loads_t.p.mean().sum())\n",
    "    prices.append((n.objective + n.objective_constant) / n.loads_t.p.sum().sum())"
   ]
  },
  {
   "cell_type": "code",
   "execution_count": 34,
   "metadata": {},
   "outputs": [
    {
     "data": {
      "text/plain": [
       "[38.72139258823529,\n",
       " 53.185475844542566,\n",
       " 44.28097203833327,\n",
       " 50.08850663833057,\n",
       " 46.459285283794166,\n",
       " 48.79451788386018]"
      ]
     },
     "execution_count": 34,
     "metadata": {},
     "output_type": "execute_result"
    }
   ],
   "source": [
    "prices"
   ]
  },
  {
   "cell_type": "code",
   "execution_count": 37,
   "metadata": {},
   "outputs": [
    {
     "data": {
      "text/plain": [
       "0.04785850340040847"
      ]
     },
     "execution_count": 37,
     "metadata": {},
     "output_type": "execute_result"
    }
   ],
   "source": []
  },
  {
   "cell_type": "code",
   "execution_count": 29,
   "metadata": {},
   "outputs": [
    {
     "data": {
      "image/png": "[encoded data removed]",
      "text/plain": [
       "<Figure size 640x480 with 1 Axes>"
      ]
     },
     "metadata": {},
     "output_type": "display_data"
    }
   ],
   "source": [
    "first_demand_iteration = average_loads[0]\n",
    "updated_average_loads = average_loads[\n",
    "    1:\n",
    "]  # demand value in first iteration didn't have a price\n",
    "updated_prices = prices[:-1]  # last price value wasn't used\n",
    "\n",
    "# Scatter plot of the points\n",
    "plt.scatter(updated_average_loads, updated_prices, label=\"Elastic demand\")\n",
    "\n",
    "# Add numbers to each point\n",
    "for i, (x, y) in enumerate(zip(updated_average_loads, updated_prices)):\n",
    "    plt.annotate(\n",
    "        \"Iteration \" + str(i + 1),\n",
    "        (x, y),\n",
    "        textcoords=\"offset points\",\n",
    "        xytext=(30, 5),\n",
    "        ha=\"center\",\n",
    "    )\n",
    "\n",
    "# Fit a linear curve to the data\n",
    "slope, intercept = np.polyfit(updated_average_loads, updated_prices, 1)\n",
    "\n",
    "# Linear curve\n",
    "x = np.linspace(min(updated_average_loads), max(updated_average_loads), 100)\n",
    "y = slope * x + intercept\n",
    "plt.plot(x, y, label=\"Linear curve\", color=\"blue\")\n",
    "\n",
    "plt.xlabel(\"Demand (MWh)\")\n",
    "plt.ylabel(\"Price (Euro/MWh)\")\n",
    "plt.title(\"Elasticity Curve\")\n",
    "plt.legend(loc=\"upper right\")\n",
    "plt.xlim([0.2, 0.3])\n",
    "plt.ylim([35, 60])\n",
    "plt.plot(x, y)\n",
    "plt.show()"
   ]
  },
  {
   "cell_type": "code",
   "execution_count": 31,
   "metadata": {},
   "outputs": [
    {
     "data": {
      "text/plain": [
       "array([53.18547584, 53.03937399, 52.89327214, 52.74717029, 52.60106844,\n",
       "       52.45496659, 52.30886474, 52.16276289, 52.01666104, 51.87055918,\n",
       "       51.72445733, 51.57835548, 51.43225363, 51.28615178, 51.14004993,\n",
       "       50.99394808, 50.84784623, 50.70174438, 50.55564253, 50.40954067,\n",
       "       50.26343882, 50.11733697, 49.97123512, 49.82513327, 49.67903142,\n",
       "       49.53292957, 49.38682772, 49.24072587, 49.09462401, 48.94852216,\n",
       "       48.80242031, 48.65631846, 48.51021661, 48.36411476, 48.21801291,\n",
       "       48.07191106, 47.92580921, 47.77970735, 47.6336055 , 47.48750365,\n",
       "       47.3414018 , 47.19529995, 47.0491981 , 46.90309625, 46.7569944 ,\n",
       "       46.61089255, 46.4647907 , 46.31868884, 46.17258699, 46.02648514,\n",
       "       45.88038329, 45.73428144, 45.58817959, 45.44207774, 45.29597589,\n",
       "       45.14987404, 45.00377218, 44.85767033, 44.71156848, 44.56546663,\n",
       "       44.41936478, 44.27326293, 44.12716108, 43.98105923, 43.83495738,\n",
       "       43.68885552, 43.54275367, 43.39665182, 43.25054997, 43.10444812,\n",
       "       42.95834627, 42.81224442, 42.66614257, 42.52004072, 42.37393887,\n",
       "       42.22783701, 42.08173516, 41.93563331, 41.78953146, 41.64342961,\n",
       "       41.49732776, 41.35122591, 41.20512406, 41.05902221, 40.91292035,\n",
       "       40.7668185 , 40.62071665, 40.4746148 , 40.32851295, 40.1824111 ,\n",
       "       40.03630925, 39.8902074 , 39.74410555, 39.59800369, 39.45190184,\n",
       "       39.30579999, 39.15969814, 39.01359629, 38.86749444, 38.72139259])"
      ]
     },
     "execution_count": 31,
     "metadata": {},
     "output_type": "execute_result"
    }
   ],
   "source": [
    "y"
   ]
  },
  {
   "attachments": {},
   "cell_type": "markdown",
   "metadata": {},
   "source": [
    "We can observe from the elastic demand the following:\n",
    "- Our initial average demand estimate of 0.2 MWh lead to a price resulting in more demand -> **iteration 1**.\n",
    "- Using the new demand derieved from the elasticity curve and **iteration 1**, increased the average system price -> **iteration 2**\n",
    "- ...\n",
    "Luckily, after several iterations we observe that the results are **converging.**"
   ]
  },
  {
   "attachments": {},
   "cell_type": "markdown",
   "metadata": {},
   "source": [
    "**Note.** Here we solve the elastic demand as linear programming (LP) problem and several iterations. It is also possible to solve the problem with **one single** optimization run. However, this requires to reformulate the problem as quadratic programming (QP) problem, see [here](https://github.com/PyPSA/PyPSA/issues/574#issuecomment-1451865672). PyPSA can also do that, however, we need to add the QP solving capability to Linopy. This is already tracked as [feature request](https://github.com/PyPSA/linopy/issues/18) and can be done in several months. "
   ]
  }
 ],
 "metadata": {
  "kernelspec": {
   "display_name": "assume",
   "language": "python",
   "name": "python3"
  },
  "language_info": {
   "codemirror_mode": {
    "name": "ipython",
    "version": 3
   },
   "file_extension": ".py",
   "mimetype": "text/x-python",
   "name": "python",
   "nbconvert_exporter": "python",
   "pygments_lexer": "ipython3",
   "version": "3.10.8"
  },
  "orig_nbformat": 4
 },
 "nbformat": 4,
 "nbformat_minor": 2
}
